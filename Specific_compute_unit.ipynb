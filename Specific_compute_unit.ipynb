{
 "cells": [
  {
   "cell_type": "code",
   "execution_count": 1,
   "id": "0fb06b8a",
   "metadata": {},
   "outputs": [
    {
     "name": "stdout",
     "output_type": "stream",
     "text": [
      "Requirement already satisfied: qai-hub in c:\\users\\avinashkoduri\\miniconda3\\envs\\qai_hub\\lib\\site-packages (0.34.0)\n",
      "Requirement already satisfied: backoff>=2.2 in c:\\users\\avinashkoduri\\miniconda3\\envs\\qai_hub\\lib\\site-packages (from qai-hub) (2.2.1)\n",
      "Requirement already satisfied: deprecation in c:\\users\\avinashkoduri\\miniconda3\\envs\\qai_hub\\lib\\site-packages (from qai-hub) (2.1.0)\n",
      "Requirement already satisfied: h5py<4,>=2.10.0 in c:\\users\\avinashkoduri\\miniconda3\\envs\\qai_hub\\lib\\site-packages (from qai-hub) (3.14.0)\n",
      "Requirement already satisfied: numpy<2,>=1.22.0 in c:\\users\\avinashkoduri\\miniconda3\\envs\\qai_hub\\lib\\site-packages (from qai-hub) (1.26.4)\n",
      "Requirement already satisfied: packaging>=20.0 in c:\\users\\avinashkoduri\\miniconda3\\envs\\qai_hub\\lib\\site-packages (from qai-hub) (25.0)\n",
      "Requirement already satisfied: prettytable>=3.9.0 in c:\\users\\avinashkoduri\\miniconda3\\envs\\qai_hub\\lib\\site-packages (from qai-hub) (3.11.0)\n",
      "Requirement already satisfied: protobuf<=6.31.1,>=3.20 in c:\\users\\avinashkoduri\\miniconda3\\envs\\qai_hub\\lib\\site-packages (from qai-hub) (6.31.1)\n",
      "Requirement already satisfied: requests in c:\\users\\avinashkoduri\\miniconda3\\envs\\qai_hub\\lib\\site-packages (from qai-hub) (2.32.5)\n",
      "Requirement already satisfied: requests-toolbelt in c:\\users\\avinashkoduri\\miniconda3\\envs\\qai_hub\\lib\\site-packages (from qai-hub) (1.0.0)\n",
      "Requirement already satisfied: s3transfer<0.11,>=0.10.3 in c:\\users\\avinashkoduri\\miniconda3\\envs\\qai_hub\\lib\\site-packages (from qai-hub) (0.10.4)\n",
      "Requirement already satisfied: semver>=3.0 in c:\\users\\avinashkoduri\\miniconda3\\envs\\qai_hub\\lib\\site-packages (from qai-hub) (3.0.4)\n",
      "Requirement already satisfied: tqdm in c:\\users\\avinashkoduri\\miniconda3\\envs\\qai_hub\\lib\\site-packages (from qai-hub) (4.67.1)\n",
      "Requirement already satisfied: typing-extensions>=4.12.2 in c:\\users\\avinashkoduri\\miniconda3\\envs\\qai_hub\\lib\\site-packages (from qai-hub) (4.14.1)\n",
      "Requirement already satisfied: botocore<2.0a.0,>=1.33.2 in c:\\users\\avinashkoduri\\miniconda3\\envs\\qai_hub\\lib\\site-packages (from s3transfer<0.11,>=0.10.3->qai-hub) (1.40.15)\n",
      "Requirement already satisfied: jmespath<2.0.0,>=0.7.1 in c:\\users\\avinashkoduri\\miniconda3\\envs\\qai_hub\\lib\\site-packages (from botocore<2.0a.0,>=1.33.2->s3transfer<0.11,>=0.10.3->qai-hub) (1.0.1)\n",
      "Requirement already satisfied: python-dateutil<3.0.0,>=2.1 in c:\\users\\avinashkoduri\\miniconda3\\envs\\qai_hub\\lib\\site-packages (from botocore<2.0a.0,>=1.33.2->s3transfer<0.11,>=0.10.3->qai-hub) (2.9.0.post0)\n",
      "Requirement already satisfied: urllib3!=2.2.0,<3,>=1.25.4 in c:\\users\\avinashkoduri\\miniconda3\\envs\\qai_hub\\lib\\site-packages (from botocore<2.0a.0,>=1.33.2->s3transfer<0.11,>=0.10.3->qai-hub) (2.5.0)\n",
      "Requirement already satisfied: six>=1.5 in c:\\users\\avinashkoduri\\miniconda3\\envs\\qai_hub\\lib\\site-packages (from python-dateutil<3.0.0,>=2.1->botocore<2.0a.0,>=1.33.2->s3transfer<0.11,>=0.10.3->qai-hub) (1.17.0)\n",
      "Requirement already satisfied: wcwidth in c:\\users\\avinashkoduri\\miniconda3\\envs\\qai_hub\\lib\\site-packages (from prettytable>=3.9.0->qai-hub) (0.2.13)\n",
      "Requirement already satisfied: charset_normalizer<4,>=2 in c:\\users\\avinashkoduri\\miniconda3\\envs\\qai_hub\\lib\\site-packages (from requests->qai-hub) (3.4.3)\n",
      "Requirement already satisfied: idna<4,>=2.5 in c:\\users\\avinashkoduri\\miniconda3\\envs\\qai_hub\\lib\\site-packages (from requests->qai-hub) (3.10)\n",
      "Requirement already satisfied: certifi>=2017.4.17 in c:\\users\\avinashkoduri\\miniconda3\\envs\\qai_hub\\lib\\site-packages (from requests->qai-hub) (2025.8.3)\n",
      "Requirement already satisfied: colorama in c:\\users\\avinashkoduri\\miniconda3\\envs\\qai_hub\\lib\\site-packages (from tqdm->qai-hub) (0.4.6)\n",
      "Note: you may need to restart the kernel to use updated packages.\n"
     ]
    }
   ],
   "source": [
    "%pip install qai-hub"
   ]
  },
  {
   "cell_type": "code",
   "execution_count": 2,
   "id": "1c5435c5",
   "metadata": {},
   "outputs": [
    {
     "name": "stdout",
     "output_type": "stream",
     "text": [
      "qai-hub configuration saved to C:\\Users\\Avinashkoduri/.qai_hub/client.ini\n",
      "==================== C:\\Users\\Avinashkoduri/.qai_hub/client.ini ====================\n",
      "[api]\n",
      "api_token = i0gipkrxzvzvitihcodpausougd88d75rcclytc1\n",
      "api_url = https://app.aihub.qualcomm.com\n",
      "web_url = https://app.aihub.qualcomm.com\n",
      "verbose = True\n",
      "\n",
      "\n"
     ]
    },
    {
     "name": "stderr",
     "output_type": "stream",
     "text": [
      "2025-09-01 15:39:40.119 - INFO - Enabling verbose logging.\n",
      "C:\\Users\\Avinashkoduri\\miniconda3\\envs\\qai_hub\\lib\\site-packages\\qai_hub\\_cli.py:391: UserWarning: Overwriting configuration: C:\\Users\\Avinashkoduri/.qai_hub/client.ini (previous configuration saved to C:\\Users\\Avinashkoduri/.qai_hub/client.ini.bak)\n",
      "  warnings.warn(\n"
     ]
    }
   ],
   "source": [
    "!qai-hub configure --api_token i0gipkrxzvzvitihcodpausougd88d75rcclytc1"
   ]
  },
  {
   "cell_type": "code",
   "execution_count": 3,
   "id": "3da0b547",
   "metadata": {},
   "outputs": [
    {
     "name": "stderr",
     "output_type": "stream",
     "text": [
      "c:\\Users\\Avinashkoduri\\miniconda3\\envs\\qai_hub\\lib\\site-packages\\torchvision\\models\\_utils.py:208: UserWarning: The parameter 'pretrained' is deprecated since 0.13 and may be removed in the future, please use 'weights' instead.\n",
      "  warnings.warn(\n",
      "c:\\Users\\Avinashkoduri\\miniconda3\\envs\\qai_hub\\lib\\site-packages\\torchvision\\models\\_utils.py:223: UserWarning: Arguments other than a weight enum or `None` for 'weights' are deprecated since 0.13 and may be removed in the future. The current behavior is equivalent to passing `weights=MobileNet_V2_Weights.IMAGENET1K_V1`. You can also use `weights=MobileNet_V2_Weights.DEFAULT` to get the most up-to-date weights.\n",
      "  warnings.warn(msg)\n"
     ]
    }
   ],
   "source": [
    "import numpy as np\n",
    "import requests\n",
    "import torch\n",
    "from PIL import Image\n",
    "from torchvision.models import mobilenet_v2\n",
    "\n",
    "import qai_hub as hub\n",
    "\n",
    "# Using pre-trained MobileNet\n",
    "torch_model = mobilenet_v2(pretrained=True)\n",
    "torch_model.eval()\n",
    "\n",
    "# Step 1: Trace model\n",
    "input_shape = (1, 3, 224, 224)\n",
    "example_input = torch.rand(input_shape)\n",
    "traced_torch_model = torch.jit.trace(torch_model, example_input)"
   ]
  },
  {
   "cell_type": "code",
   "execution_count": 4,
   "id": "710b73d7",
   "metadata": {},
   "outputs": [
    {
     "name": "stdout",
     "output_type": "stream",
     "text": [
      "Uploading tmpvo4z037j.pt\n"
     ]
    },
    {
     "name": "stderr",
     "output_type": "stream",
     "text": [
      "100%|\u001b[34m██████████\u001b[0m| 13.9M/13.9M [00:13<00:00, 1.05MB/s]\n"
     ]
    },
    {
     "name": "stdout",
     "output_type": "stream",
     "text": [
      "Scheduled compile job (jpew7n7op) successfully. To see the status and results:\n",
      "    https://app.aihub.qualcomm.com/jobs/jpew7n7op/\n",
      "\n"
     ]
    }
   ],
   "source": [
    "compile_job = hub.submit_compile_job(\n",
    "traced_torch_model,\n",
    "name=\"MobileNet-NPU\",\n",
    "device=hub.Device (\"Samsung Galaxy S24 (Family)\"),\n",
    "input_specs=dict(x=input_shape),\n",
    "options=\"--compute_unit npu\"\n",
    "\n",
    ")"
   ]
  },
  {
   "cell_type": "code",
   "execution_count": 5,
   "id": "f0e1b21b",
   "metadata": {},
   "outputs": [
    {
     "name": "stdout",
     "output_type": "stream",
     "text": [
      "Waiting for compile job (jpew7n7op) completion. Type Ctrl+C to stop waiting at any time.\n",
      "    ✅ SUCCESS                          \u0007\n",
      "Scheduled profile job (jgzjl0lop) successfully. To see the status and results:\n",
      "    https://app.aihub.qualcomm.com/jobs/jgzjl0lop/\n",
      "\n"
     ]
    }
   ],
   "source": [
    "profile_job = hub.submit_profile_job(\n",
    "model=compile_job.get_target_model(),\n",
    "name=\"MobileNet-NPU\",\n",
    "device= hub. Device(\"Samsung Galaxy S24 (Family)\"),\n",
    "options=\"--compute_unit npu\")"
   ]
  }
 ],
 "metadata": {
  "kernelspec": {
   "display_name": "qai_hub",
   "language": "python",
   "name": "python3"
  },
  "language_info": {
   "codemirror_mode": {
    "name": "ipython",
    "version": 3
   },
   "file_extension": ".py",
   "mimetype": "text/x-python",
   "name": "python",
   "nbconvert_exporter": "python",
   "pygments_lexer": "ipython3",
   "version": "3.10.18"
  }
 },
 "nbformat": 4,
 "nbformat_minor": 5
}
