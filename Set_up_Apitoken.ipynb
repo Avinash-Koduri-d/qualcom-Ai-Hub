{
 "cells": [
  {
   "cell_type": "code",
   "execution_count": 1,
   "id": "14738464",
   "metadata": {},
   "outputs": [
    {
     "name": "stdout",
     "output_type": "stream",
     "text": [
      "Requirement already satisfied: qai-hub in c:\\users\\avinashkoduri\\miniconda3\\envs\\qai_hub\\lib\\site-packages (0.34.0)\n",
      "Requirement already satisfied: backoff>=2.2 in c:\\users\\avinashkoduri\\miniconda3\\envs\\qai_hub\\lib\\site-packages (from qai-hub) (2.2.1)\n",
      "Requirement already satisfied: deprecation in c:\\users\\avinashkoduri\\miniconda3\\envs\\qai_hub\\lib\\site-packages (from qai-hub) (2.1.0)\n",
      "Requirement already satisfied: h5py<4,>=2.10.0 in c:\\users\\avinashkoduri\\miniconda3\\envs\\qai_hub\\lib\\site-packages (from qai-hub) (3.14.0)\n",
      "Requirement already satisfied: numpy<2,>=1.22.0 in c:\\users\\avinashkoduri\\miniconda3\\envs\\qai_hub\\lib\\site-packages (from qai-hub) (1.26.4)\n",
      "Requirement already satisfied: packaging>=20.0 in c:\\users\\avinashkoduri\\miniconda3\\envs\\qai_hub\\lib\\site-packages (from qai-hub) (25.0)\n",
      "Requirement already satisfied: prettytable>=3.9.0 in c:\\users\\avinashkoduri\\miniconda3\\envs\\qai_hub\\lib\\site-packages (from qai-hub) (3.11.0)\n",
      "Requirement already satisfied: protobuf<=6.31.1,>=3.20 in c:\\users\\avinashkoduri\\miniconda3\\envs\\qai_hub\\lib\\site-packages (from qai-hub) (6.31.1)\n",
      "Requirement already satisfied: requests in c:\\users\\avinashkoduri\\miniconda3\\envs\\qai_hub\\lib\\site-packages (from qai-hub) (2.32.5)\n",
      "Requirement already satisfied: requests-toolbelt in c:\\users\\avinashkoduri\\miniconda3\\envs\\qai_hub\\lib\\site-packages (from qai-hub) (1.0.0)\n",
      "Requirement already satisfied: s3transfer<0.11,>=0.10.3 in c:\\users\\avinashkoduri\\miniconda3\\envs\\qai_hub\\lib\\site-packages (from qai-hub) (0.10.4)\n",
      "Requirement already satisfied: semver>=3.0 in c:\\users\\avinashkoduri\\miniconda3\\envs\\qai_hub\\lib\\site-packages (from qai-hub) (3.0.4)\n",
      "Requirement already satisfied: tqdm in c:\\users\\avinashkoduri\\miniconda3\\envs\\qai_hub\\lib\\site-packages (from qai-hub) (4.67.1)\n",
      "Requirement already satisfied: typing-extensions>=4.12.2 in c:\\users\\avinashkoduri\\miniconda3\\envs\\qai_hub\\lib\\site-packages (from qai-hub) (4.14.1)\n",
      "Requirement already satisfied: botocore<2.0a.0,>=1.33.2 in c:\\users\\avinashkoduri\\miniconda3\\envs\\qai_hub\\lib\\site-packages (from s3transfer<0.11,>=0.10.3->qai-hub) (1.40.15)\n",
      "Requirement already satisfied: jmespath<2.0.0,>=0.7.1 in c:\\users\\avinashkoduri\\miniconda3\\envs\\qai_hub\\lib\\site-packages (from botocore<2.0a.0,>=1.33.2->s3transfer<0.11,>=0.10.3->qai-hub) (1.0.1)\n",
      "Requirement already satisfied: python-dateutil<3.0.0,>=2.1 in c:\\users\\avinashkoduri\\miniconda3\\envs\\qai_hub\\lib\\site-packages (from botocore<2.0a.0,>=1.33.2->s3transfer<0.11,>=0.10.3->qai-hub) (2.9.0.post0)\n",
      "Requirement already satisfied: urllib3!=2.2.0,<3,>=1.25.4 in c:\\users\\avinashkoduri\\miniconda3\\envs\\qai_hub\\lib\\site-packages (from botocore<2.0a.0,>=1.33.2->s3transfer<0.11,>=0.10.3->qai-hub) (2.5.0)\n",
      "Requirement already satisfied: six>=1.5 in c:\\users\\avinashkoduri\\miniconda3\\envs\\qai_hub\\lib\\site-packages (from python-dateutil<3.0.0,>=2.1->botocore<2.0a.0,>=1.33.2->s3transfer<0.11,>=0.10.3->qai-hub) (1.17.0)\n",
      "Requirement already satisfied: wcwidth in c:\\users\\avinashkoduri\\miniconda3\\envs\\qai_hub\\lib\\site-packages (from prettytable>=3.9.0->qai-hub) (0.2.13)\n",
      "Requirement already satisfied: charset_normalizer<4,>=2 in c:\\users\\avinashkoduri\\miniconda3\\envs\\qai_hub\\lib\\site-packages (from requests->qai-hub) (3.4.3)\n",
      "Requirement already satisfied: idna<4,>=2.5 in c:\\users\\avinashkoduri\\miniconda3\\envs\\qai_hub\\lib\\site-packages (from requests->qai-hub) (3.10)\n",
      "Requirement already satisfied: certifi>=2017.4.17 in c:\\users\\avinashkoduri\\miniconda3\\envs\\qai_hub\\lib\\site-packages (from requests->qai-hub) (2025.8.3)\n",
      "Requirement already satisfied: colorama in c:\\users\\avinashkoduri\\miniconda3\\envs\\qai_hub\\lib\\site-packages (from tqdm->qai-hub) (0.4.6)\n",
      "Note: you may need to restart the kernel to use updated packages.\n"
     ]
    }
   ],
   "source": [
    "%pip install qai-hub"
   ]
  },
  {
   "cell_type": "code",
   "execution_count": 2,
   "id": "7d707d55",
   "metadata": {},
   "outputs": [
    {
     "name": "stdout",
     "output_type": "stream",
     "text": [
      "qai-hub configuration saved to C:\\Users\\Avinashkoduri/.qai_hub/client.ini\n",
      "==================== C:\\Users\\Avinashkoduri/.qai_hub/client.ini ====================\n",
      "[api]\n",
      "api_token = i0gipkrxzvzvitihcodpausougd88d75rcclytc1\n",
      "api_url = https://app.aihub.qualcomm.com\n",
      "web_url = https://app.aihub.qualcomm.com\n",
      "verbose = True\n",
      "\n",
      "\n"
     ]
    },
    {
     "name": "stderr",
     "output_type": "stream",
     "text": [
      "2025-09-01 10:07:52.078 - INFO - Enabling verbose logging.\n",
      "C:\\Users\\Avinashkoduri\\miniconda3\\envs\\qai_hub\\lib\\site-packages\\qai_hub\\_cli.py:391: UserWarning: Overwriting configuration: C:\\Users\\Avinashkoduri/.qai_hub/client.ini (previous configuration saved to C:\\Users\\Avinashkoduri/.qai_hub/client.ini.bak)\n",
      "  warnings.warn(\n"
     ]
    }
   ],
   "source": [
    "!qai-hub configure --api_token i0gipkrxzvzvitihcodpausougd88d75rcclytc1"
   ]
  },
  {
   "cell_type": "code",
   "execution_count": 3,
   "id": "7b2bb0b2",
   "metadata": {},
   "outputs": [
    {
     "name": "stdout",
     "output_type": "stream",
     "text": [
      "+-------------------------------+------------+----------+---------+---------------------------------------------------+---------------------------------------------------------+\n",
      "|             Device            |     OS     |  Vendor  |   Type  |                      Chipset                      |                      CLI Invocation                     |\n",
      "+-------------------------------+------------+----------+---------+---------------------------------------------------+---------------------------------------------------------+\n",
      "|    Google Pixel 3 (Family)    | Android 10 |  Google  |  Phone  |          qualcomm-snapdragon-845, sdm845          |    --device \"Google Pixel 3 (Family)\" --device-os 10    |\n",
      "|         Google Pixel 3        | Android 10 |  Google  |  Phone  |          qualcomm-snapdragon-845, sdm845          |         --device \"Google Pixel 3\" --device-os 10        |\n",
      "|        Google Pixel 3a        | Android 10 |  Google  |  Phone  |          qualcomm-snapdragon-670, sdm670          |        --device \"Google Pixel 3a\" --device-os 10        |\n",
      "|       Google Pixel 3 XL       | Android 10 |  Google  |  Phone  |          qualcomm-snapdragon-845, sdm845          |       --device \"Google Pixel 3 XL\" --device-os 10       |\n",
      "|         Google Pixel 4        | Android 10 |  Google  |  Phone  |          qualcomm-snapdragon-855, sm8150          |         --device \"Google Pixel 4\" --device-os 10        |\n",
      "|         Google Pixel 4        | Android 11 |  Google  |  Phone  |          qualcomm-snapdragon-855, sm8150          |         --device \"Google Pixel 4\" --device-os 11        |\n",
      "|        Google Pixel 4a        | Android 11 |  Google  |  Phone  |        qualcomm-snapdragon-730g, sm7150-ab        |        --device \"Google Pixel 4a\" --device-os 11        |\n",
      "|         Google Pixel 5        | Android 11 |  Google  |  Phone  |          qualcomm-snapdragon-765g, sm7250         |         --device \"Google Pixel 5\" --device-os 11        |\n",
      "|     Samsung Galaxy Tab S7     | Android 11 | Samsung  |  Tablet |        qualcomm-snapdragon-865+, sm8250-ab        |     --device \"Samsung Galaxy Tab S7\" --device-os 11     |\n",
      "|  Samsung Galaxy Tab A8 (2021) | Android 11 | Samsung  |  Tablet |          qualcomm-snapdragon-429, sdm429          |  --device \"Samsung Galaxy Tab A8 (2021)\" --device-os 11 |\n",
      "| Samsung Galaxy Note 20 (Intl) | Android 11 | Samsung  |  Phone  |                 samsung-exynos-990                | --device \"Samsung Galaxy Note 20 (Intl)\" --device-os 11 |\n",
      "|  Samsung Galaxy S21 (Family)  | Android 11 | Samsung  |  Phone  |          qualcomm-snapdragon-888, sm8350          |  --device \"Samsung Galaxy S21 (Family)\" --device-os 11  |\n",
      "|       Samsung Galaxy S21      | Android 11 | Samsung  |  Phone  |          qualcomm-snapdragon-888, sm8350          |       --device \"Samsung Galaxy S21\" --device-os 11      |\n",
      "|      Samsung Galaxy S21+      | Android 11 | Samsung  |  Phone  |          qualcomm-snapdragon-888, sm8350          |      --device \"Samsung Galaxy S21+\" --device-os 11      |\n",
      "|    Samsung Galaxy S21 Ultra   | Android 11 | Samsung  |  Phone  |          qualcomm-snapdragon-888, sm8350          |    --device \"Samsung Galaxy S21 Ultra\" --device-os 11   |\n",
      "|    Xiaomi Redmi Note 10 5G    | Android 11 | Oneplus  |  Phone  |         qualcomm-snapdragon-678, sm6150-ac        |    --device \"Xiaomi Redmi Note 10 5G\" --device-os 11    |\n",
      "|       Google Pixel 3a XL      | Android 12 |  Google  |  Phone  |          qualcomm-snapdragon-670, sdm670          |       --device \"Google Pixel 3a XL\" --device-os 12      |\n",
      "|        Google Pixel 4a        | Android 12 |  Google  |  Phone  |        qualcomm-snapdragon-730g, sm7150-ab        |        --device \"Google Pixel 4a\" --device-os 12        |\n",
      "|    Google Pixel 5 (Family)    | Android 12 |  Google  |  Phone  |          qualcomm-snapdragon-765g, sm7250         |    --device \"Google Pixel 5 (Family)\" --device-os 12    |\n",
      "|         Google Pixel 5        | Android 12 |  Google  |  Phone  |          qualcomm-snapdragon-765g, sm7250         |         --device \"Google Pixel 5\" --device-os 12        |\n",
      "|       Google Pixel 5a 5G      | Android 12 |  Google  |  Phone  |          qualcomm-snapdragon-765g, sm7250         |       --device \"Google Pixel 5a 5G\" --device-os 12      |\n",
      "|         Google Pixel 6        | Android 12 |  Google  |  Phone  |                   google-tensor                   |         --device \"Google Pixel 6\" --device-os 12        |\n",
      "|     Samsung Galaxy A53 5G     | Android 12 | Samsung  |  Phone  |                samsung-exynos-1280                |     --device \"Samsung Galaxy A53 5G\" --device-os 12     |\n",
      "|     Samsung Galaxy A73 5G     | Android 12 | Samsung  |  Phone  |          qualcomm-snapdragon-778g, sm7325         |     --device \"Samsung Galaxy A73 5G\" --device-os 12     |\n",
      "|       RB3 Gen 2 (Proxy)       | Android 12 | Qualcomm |   Iot   |               qualcomm-qcs6490-proxy              |       --device \"RB3 Gen 2 (Proxy)\" --device-os 12       |\n",
      "|        QCS6490 (Proxy)        | Android 12 | Qualcomm |   Iot   |               qualcomm-qcs6490-proxy              |        --device \"QCS6490 (Proxy)\" --device-os 12        |\n",
      "|          RB5 (Proxy)          | Android 12 | Qualcomm |   Iot   |               qualcomm-qcs8250-proxy              |          --device \"RB5 (Proxy)\" --device-os 12          |\n",
      "|        QCS8250 (Proxy)        | Android 12 | Qualcomm |   Iot   |               qualcomm-qcs8250-proxy              |        --device \"QCS8250 (Proxy)\" --device-os 12        |\n",
      "|        QCS8550 (Proxy)        | Android 12 | Qualcomm |   Iot   |               qualcomm-qcs8550-proxy              |        --device \"QCS8550 (Proxy)\" --device-os 12        |\n",
      "|  Samsung Galaxy S21 (Family)  | Android 12 | Samsung  |  Phone  |          qualcomm-snapdragon-888, sm8350          |  --device \"Samsung Galaxy S21 (Family)\" --device-os 12  |\n",
      "|       Samsung Galaxy S21      | Android 12 | Samsung  |  Phone  |          qualcomm-snapdragon-888, sm8350          |       --device \"Samsung Galaxy S21\" --device-os 12      |\n",
      "|    Samsung Galaxy S21 Ultra   | Android 12 | Samsung  |  Phone  |          qualcomm-snapdragon-888, sm8350          |    --device \"Samsung Galaxy S21 Ultra\" --device-os 12   |\n",
      "|  Samsung Galaxy S22 (Family)  | Android 12 | Samsung  |  Phone  |         qualcomm-snapdragon-8gen1, sm8450         |  --device \"Samsung Galaxy S22 (Family)\" --device-os 12  |\n",
      "|  Samsung Galaxy S22 Ultra 5G  | Android 12 | Samsung  |  Phone  |         qualcomm-snapdragon-8gen1, sm8450         |  --device \"Samsung Galaxy S22 Ultra 5G\" --device-os 12  |\n",
      "|     Samsung Galaxy S22 5G     | Android 12 | Samsung  |  Phone  |         qualcomm-snapdragon-8gen1, sm8450         |     --device \"Samsung Galaxy S22 5G\" --device-os 12     |\n",
      "|     Samsung Galaxy S22+ 5G    | Android 12 | Samsung  |  Phone  |         qualcomm-snapdragon-8gen1, sm8450         |     --device \"Samsung Galaxy S22+ 5G\" --device-os 12    |\n",
      "|     Samsung Galaxy Tab S8     | Android 12 | Samsung  |  Tablet |         qualcomm-snapdragon-8gen1, sm8450         |     --device \"Samsung Galaxy Tab S8\" --device-os 12     |\n",
      "|       Xiaomi 12 (Family)      | Android 12 |  Xiaomi  |  Phone  |         qualcomm-snapdragon-8gen1, sm8450         |       --device \"Xiaomi 12 (Family)\" --device-os 12      |\n",
      "|           Xiaomi 12           | Android 12 |  Xiaomi  |  Phone  |         qualcomm-snapdragon-8gen1, sm8450         |           --device \"Xiaomi 12\" --device-os 12           |\n",
      "|         Xiaomi 12 Pro         | Android 12 |  Xiaomi  |  Phone  |         qualcomm-snapdragon-8gen1, sm8450         |         --device \"Xiaomi 12 Pro\" --device-os 12         |\n",
      "|    Google Pixel 6 (Family)    | Android 13 |  Google  |  Phone  |                   google-tensor                   |    --device \"Google Pixel 6 (Family)\" --device-os 13    |\n",
      "|         Google Pixel 6        | Android 13 |  Google  |  Phone  |                   google-tensor                   |         --device \"Google Pixel 6\" --device-os 13        |\n",
      "|        Google Pixel 6a        | Android 13 |  Google  |  Phone  |                   google-tensor                   |        --device \"Google Pixel 6a\" --device-os 13        |\n",
      "|    Google Pixel 7 (Family)    | Android 13 |  Google  |  Phone  |                  google-tensor-g2                 |    --device \"Google Pixel 7 (Family)\" --device-os 13    |\n",
      "|         Google Pixel 7        | Android 13 |  Google  |  Phone  |                  google-tensor-g2                 |         --device \"Google Pixel 7\" --device-os 13        |\n",
      "|       Google Pixel 7 Pro      | Android 13 |  Google  |  Phone  |                  google-tensor-g2                 |       --device \"Google Pixel 7 Pro\" --device-os 13      |\n",
      "|     Samsung Galaxy A14 5G     | Android 13 | Samsung  |  Phone  |                samsung-exynos-1330                |     --device \"Samsung Galaxy A14 5G\" --device-os 13     |\n",
      "|     Samsung Galaxy S22 5G     | Android 13 | Samsung  |  Phone  |         qualcomm-snapdragon-8gen1, sm8450         |     --device \"Samsung Galaxy S22 5G\" --device-os 13     |\n",
      "|        QCS8450 (Proxy)        | Android 13 | Qualcomm |    Xr   |               qualcomm-qcs8450-proxy              |        --device \"QCS8450 (Proxy)\" --device-os 13        |\n",
      "|       XR2 Gen 2 (Proxy)       | Android 13 | Qualcomm |    Xr   |               qualcomm-qcs8450-proxy              |       --device \"XR2 Gen 2 (Proxy)\" --device-os 13       |\n",
      "|  Samsung Galaxy S23 (Family)  | Android 13 | Samsung  |  Phone  |         qualcomm-snapdragon-8gen2, sm8550         |  --device \"Samsung Galaxy S23 (Family)\" --device-os 13  |\n",
      "|         SA8650 (Proxy)        | Android 13 | Qualcomm |   Auto  |               qualcomm-sa8650p-proxy              |         --device \"SA8650 (Proxy)\" --device-os 13        |\n",
      "|         SA8775 (Proxy)        | Android 13 | Qualcomm |   Auto  |               qualcomm-sa8775p-proxy              |         --device \"SA8775 (Proxy)\" --device-os 13        |\n",
      "|         SA8255 (Proxy)        | Android 13 | Qualcomm |   Auto  |               qualcomm-sa8255p-proxy              |         --device \"SA8255 (Proxy)\" --device-os 13        |\n",
      "|       Samsung Galaxy S23      | Android 13 | Samsung  |  Phone  |         qualcomm-snapdragon-8gen2, sm8550         |       --device \"Samsung Galaxy S23\" --device-os 13      |\n",
      "|      Samsung Galaxy S23+      | Android 13 | Samsung  |  Phone  |         qualcomm-snapdragon-8gen2, sm8550         |      --device \"Samsung Galaxy S23+\" --device-os 13      |\n",
      "|    Samsung Galaxy S23 Ultra   | Android 13 | Samsung  |  Phone  |         qualcomm-snapdragon-8gen2, sm8550         |    --device \"Samsung Galaxy S23 Ultra\" --device-os 13   |\n",
      "|         Google Pixel 7        | Android 14 |  Google  |  Phone  |                  google-tensor-g2                 |         --device \"Google Pixel 7\" --device-os 14        |\n",
      "|    Google Pixel 8 (Family)    | Android 14 |  Google  |  Phone  |                  google-tensor-g3                 |    --device \"Google Pixel 8 (Family)\" --device-os 14    |\n",
      "|         Google Pixel 8        | Android 14 |  Google  |  Phone  |                  google-tensor-g3                 |         --device \"Google Pixel 8\" --device-os 14        |\n",
      "|       Google Pixel 8 Pro      | Android 14 |  Google  |  Phone  |                  google-tensor-g3                 |       --device \"Google Pixel 8 Pro\" --device-os 14      |\n",
      "|  Samsung Galaxy S24 (Family)  | Android 14 | Samsung  |  Phone  |         qualcomm-snapdragon-8gen3, sm8650         |  --device \"Samsung Galaxy S24 (Family)\" --device-os 14  |\n",
      "|       Samsung Galaxy S24      | Android 14 | Samsung  |  Phone  |         qualcomm-snapdragon-8gen3, sm8650         |       --device \"Samsung Galaxy S24\" --device-os 14      |\n",
      "|    Samsung Galaxy S24 Ultra   | Android 14 | Samsung  |  Phone  |         qualcomm-snapdragon-8gen3, sm8650         |    --device \"Samsung Galaxy S24 Ultra\" --device-os 14   |\n",
      "|      Samsung Galaxy S24+      | Android 14 | Samsung  |  Phone  |         qualcomm-snapdragon-8gen3, sm8650         |      --device \"Samsung Galaxy S24+\" --device-os 14      |\n",
      "|    Google Pixel 9 (Family)    | Android 15 |  Google  |  Phone  |                  google-tensor-g4                 |    --device \"Google Pixel 9 (Family)\" --device-os 15    |\n",
      "|         Google Pixel 9        | Android 15 |  Google  |  Phone  |                  google-tensor-g4                 |         --device \"Google Pixel 9\" --device-os 15        |\n",
      "|       Google Pixel 9 Pro      | Android 15 |  Google  |  Phone  |                  google-tensor-g4                 |       --device \"Google Pixel 9 Pro\" --device-os 15      |\n",
      "|     Google Pixel 9 Pro XL     | Android 15 |  Google  |  Phone  |                  google-tensor-g4                 |     --device \"Google Pixel 9 Pro XL\" --device-os 15     |\n",
      "|       Samsung Galaxy S25      | Android 15 | Samsung  |  Phone  | qualcomm-snapdragon-8-elite-for-galaxy, sm8750-ac |       --device \"Samsung Galaxy S25\" --device-os 15      |\n",
      "|    Samsung Galaxy S25 Ultra   | Android 15 | Samsung  |  Phone  | qualcomm-snapdragon-8-elite-for-galaxy, sm8750-ac |    --device \"Samsung Galaxy S25 Ultra\" --device-os 15   |\n",
      "|      Samsung Galaxy S25+      | Android 15 | Samsung  |  Phone  | qualcomm-snapdragon-8-elite-for-galaxy, sm8750-ac |      --device \"Samsung Galaxy S25+\" --device-os 15      |\n",
      "|  Samsung Galaxy S25 (Family)  | Android 15 | Samsung  |  Phone  | qualcomm-snapdragon-8-elite-for-galaxy, sm8750-ac |  --device \"Samsung Galaxy S25 (Family)\" --device-os 15  |\n",
      "|    Snapdragon 8cx Gen 3 CRD   | Windows 11 | Qualcomm | Compute |        qualcomm-snapdragon-8cxgen3, sc8280x       |    --device \"Snapdragon 8cx Gen 3 CRD\" --device-os 11   |\n",
      "|     Snapdragon X Elite CRD    | Windows 11 | Qualcomm | Compute |       qualcomm-snapdragon-x-elite, sc8380xp       |     --device \"Snapdragon X Elite CRD\" --device-os 11    |\n",
      "|  Snapdragon X Plus 8-Core CRD | Windows 11 | Qualcomm | Compute |    qualcomm-snapdragon-x-plus-8-core, sc8340xp    |  --device \"Snapdragon X Plus 8-Core CRD\" --device-os 11 |\n",
      "|     Snapdragon 8 Elite QRD    | Android 15 | Qualcomm |  Phone  |        qualcomm-snapdragon-8-elite, sm8750        |     --device \"Snapdragon 8 Elite QRD\" --device-os 15    |\n",
      "|          SA8295P ADP          | Android 14 | Qualcomm |   Auto  |                  qualcomm-sa8295p                 |          --device \"SA8295P ADP\" --device-os 14          |\n",
      "|          SA8775P ADP          | Android 14 | Qualcomm |   Auto  |                  qualcomm-sa8775p                 |          --device \"SA8775P ADP\" --device-os 14          |\n",
      "|          SA7255P ADP          | Android 14 | Qualcomm |   Auto  |                  qualcomm-sa7255p                 |          --device \"SA7255P ADP\" --device-os 14          |\n",
      "|        QCS9075 (Proxy)        | Android 14 | Qualcomm |   Iot   |               qualcomm-qcs9075-proxy              |        --device \"QCS9075 (Proxy)\" --device-os 14        |\n",
      "|        QCS8275 (Proxy)        | Android 14 | Qualcomm |   Iot   |               qualcomm-qcs8275-proxy              |        --device \"QCS8275 (Proxy)\" --device-os 14        |\n",
      "+-------------------------------+------------+----------+---------+---------------------------------------------------+---------------------------------------------------------+\n"
     ]
    }
   ],
   "source": [
    "!qai-hub list-devices"
   ]
  }
 ],
 "metadata": {
  "kernelspec": {
   "display_name": "qai_hub",
   "language": "python",
   "name": "python3"
  },
  "language_info": {
   "codemirror_mode": {
    "name": "ipython",
    "version": 3
   },
   "file_extension": ".py",
   "mimetype": "text/x-python",
   "name": "python",
   "nbconvert_exporter": "python",
   "pygments_lexer": "ipython3",
   "version": "3.10.18"
  }
 },
 "nbformat": 4,
 "nbformat_minor": 5
}
