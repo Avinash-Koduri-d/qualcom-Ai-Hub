{
 "cells": [
  {
   "cell_type": "code",
   "execution_count": 2,
   "id": "aee5a0a9",
   "metadata": {},
   "outputs": [
    {
     "name": "stdout",
     "output_type": "stream",
     "text": [
      "Requirement already satisfied: qai-hub in c:\\users\\avinashkoduri\\miniconda3\\envs\\qai_hub\\lib\\site-packages (0.34.0)\n",
      "Requirement already satisfied: backoff>=2.2 in c:\\users\\avinashkoduri\\miniconda3\\envs\\qai_hub\\lib\\site-packages (from qai-hub) (2.2.1)\n",
      "Requirement already satisfied: deprecation in c:\\users\\avinashkoduri\\miniconda3\\envs\\qai_hub\\lib\\site-packages (from qai-hub) (2.1.0)\n",
      "Requirement already satisfied: h5py<4,>=2.10.0 in c:\\users\\avinashkoduri\\miniconda3\\envs\\qai_hub\\lib\\site-packages (from qai-hub) (3.14.0)\n",
      "Requirement already satisfied: numpy<2,>=1.22.0 in c:\\users\\avinashkoduri\\miniconda3\\envs\\qai_hub\\lib\\site-packages (from qai-hub) (1.26.4)\n",
      "Requirement already satisfied: packaging>=20.0 in c:\\users\\avinashkoduri\\miniconda3\\envs\\qai_hub\\lib\\site-packages (from qai-hub) (25.0)\n",
      "Requirement already satisfied: prettytable>=3.9.0 in c:\\users\\avinashkoduri\\miniconda3\\envs\\qai_hub\\lib\\site-packages (from qai-hub) (3.11.0)\n",
      "Requirement already satisfied: protobuf<=6.31.1,>=3.20 in c:\\users\\avinashkoduri\\miniconda3\\envs\\qai_hub\\lib\\site-packages (from qai-hub) (6.31.1)\n",
      "Requirement already satisfied: requests in c:\\users\\avinashkoduri\\miniconda3\\envs\\qai_hub\\lib\\site-packages (from qai-hub) (2.32.5)\n",
      "Requirement already satisfied: requests-toolbelt in c:\\users\\avinashkoduri\\miniconda3\\envs\\qai_hub\\lib\\site-packages (from qai-hub) (1.0.0)\n",
      "Requirement already satisfied: s3transfer<0.11,>=0.10.3 in c:\\users\\avinashkoduri\\miniconda3\\envs\\qai_hub\\lib\\site-packages (from qai-hub) (0.10.4)\n",
      "Requirement already satisfied: semver>=3.0 in c:\\users\\avinashkoduri\\miniconda3\\envs\\qai_hub\\lib\\site-packages (from qai-hub) (3.0.4)\n",
      "Requirement already satisfied: tqdm in c:\\users\\avinashkoduri\\miniconda3\\envs\\qai_hub\\lib\\site-packages (from qai-hub) (4.67.1)\n",
      "Requirement already satisfied: typing-extensions>=4.12.2 in c:\\users\\avinashkoduri\\miniconda3\\envs\\qai_hub\\lib\\site-packages (from qai-hub) (4.14.1)\n",
      "Requirement already satisfied: botocore<2.0a.0,>=1.33.2 in c:\\users\\avinashkoduri\\miniconda3\\envs\\qai_hub\\lib\\site-packages (from s3transfer<0.11,>=0.10.3->qai-hub) (1.40.15)\n",
      "Requirement already satisfied: jmespath<2.0.0,>=0.7.1 in c:\\users\\avinashkoduri\\miniconda3\\envs\\qai_hub\\lib\\site-packages (from botocore<2.0a.0,>=1.33.2->s3transfer<0.11,>=0.10.3->qai-hub) (1.0.1)\n",
      "Requirement already satisfied: python-dateutil<3.0.0,>=2.1 in c:\\users\\avinashkoduri\\miniconda3\\envs\\qai_hub\\lib\\site-packages (from botocore<2.0a.0,>=1.33.2->s3transfer<0.11,>=0.10.3->qai-hub) (2.9.0.post0)\n",
      "Requirement already satisfied: urllib3!=2.2.0,<3,>=1.25.4 in c:\\users\\avinashkoduri\\miniconda3\\envs\\qai_hub\\lib\\site-packages (from botocore<2.0a.0,>=1.33.2->s3transfer<0.11,>=0.10.3->qai-hub) (2.5.0)\n",
      "Requirement already satisfied: six>=1.5 in c:\\users\\avinashkoduri\\miniconda3\\envs\\qai_hub\\lib\\site-packages (from python-dateutil<3.0.0,>=2.1->botocore<2.0a.0,>=1.33.2->s3transfer<0.11,>=0.10.3->qai-hub) (1.17.0)\n",
      "Requirement already satisfied: wcwidth in c:\\users\\avinashkoduri\\miniconda3\\envs\\qai_hub\\lib\\site-packages (from prettytable>=3.9.0->qai-hub) (0.2.13)\n",
      "Requirement already satisfied: charset_normalizer<4,>=2 in c:\\users\\avinashkoduri\\miniconda3\\envs\\qai_hub\\lib\\site-packages (from requests->qai-hub) (3.4.3)\n",
      "Requirement already satisfied: idna<4,>=2.5 in c:\\users\\avinashkoduri\\miniconda3\\envs\\qai_hub\\lib\\site-packages (from requests->qai-hub) (3.10)\n",
      "Requirement already satisfied: certifi>=2017.4.17 in c:\\users\\avinashkoduri\\miniconda3\\envs\\qai_hub\\lib\\site-packages (from requests->qai-hub) (2025.8.3)\n",
      "Requirement already satisfied: colorama in c:\\users\\avinashkoduri\\miniconda3\\envs\\qai_hub\\lib\\site-packages (from tqdm->qai-hub) (0.4.6)\n",
      "Note: you may need to restart the kernel to use updated packages.\n"
     ]
    }
   ],
   "source": [
    "%pip install qai-hub"
   ]
  },
  {
   "cell_type": "code",
   "execution_count": 3,
   "id": "e8d1f763",
   "metadata": {},
   "outputs": [
    {
     "name": "stdout",
     "output_type": "stream",
     "text": [
      "qai-hub configuration saved to C:\\Users\\Avinashkoduri/.qai_hub/client.ini\n",
      "==================== C:\\Users\\Avinashkoduri/.qai_hub/client.ini ====================\n",
      "[api]\n",
      "api_token = i0gipkrxzvzvitihcodpausougd88d75rcclytc1\n",
      "api_url = https://app.aihub.qualcomm.com\n",
      "web_url = https://app.aihub.qualcomm.com\n",
      "verbose = True\n",
      "\n",
      "\n"
     ]
    },
    {
     "name": "stderr",
     "output_type": "stream",
     "text": [
      "2025-09-01 11:16:24.752 - INFO - Enabling verbose logging.\n",
      "C:\\Users\\Avinashkoduri\\miniconda3\\envs\\qai_hub\\lib\\site-packages\\qai_hub\\_cli.py:391: UserWarning: Overwriting configuration: C:\\Users\\Avinashkoduri/.qai_hub/client.ini (previous configuration saved to C:\\Users\\Avinashkoduri/.qai_hub/client.ini.bak)\n",
      "  warnings.warn(\n"
     ]
    }
   ],
   "source": [
    "!qai-hub configure --api_token i0gipkrxzvzvitihcodpausougd88d75rcclytc1"
   ]
  },
  {
   "cell_type": "code",
   "execution_count": 4,
   "id": "e2145777",
   "metadata": {},
   "outputs": [
    {
     "name": "stdout",
     "output_type": "stream",
     "text": [
      "Requirement already satisfied: qai-hub-models in c:\\users\\avinashkoduri\\miniconda3\\envs\\qai_hub\\lib\\site-packages (0.34.3)\n",
      "Requirement already satisfied: Pillow<12,>10 in c:\\users\\avinashkoduri\\miniconda3\\envs\\qai_hub\\lib\\site-packages (from qai-hub-models) (11.3.0)\n",
      "Requirement already satisfied: gdown==4.7.1 in c:\\users\\avinashkoduri\\miniconda3\\envs\\qai_hub\\lib\\site-packages (from qai-hub-models) (4.7.1)\n",
      "Requirement already satisfied: gitpython==3.1.42 in c:\\users\\avinashkoduri\\miniconda3\\envs\\qai_hub\\lib\\site-packages (from qai-hub-models) (3.1.42)\n",
      "Requirement already satisfied: huggingface-hub<1.0,>=0.23.1 in c:\\users\\avinashkoduri\\miniconda3\\envs\\qai_hub\\lib\\site-packages (from qai-hub-models) (0.34.4)\n",
      "Requirement already satisfied: ipython==8.12.3 in c:\\users\\avinashkoduri\\miniconda3\\envs\\qai_hub\\lib\\site-packages (from qai-hub-models) (8.12.3)\n",
      "Requirement already satisfied: numpy<2 in c:\\users\\avinashkoduri\\miniconda3\\envs\\qai_hub\\lib\\site-packages (from qai-hub-models) (1.26.4)\n",
      "Requirement already satisfied: onnx>=1.16.1 in c:\\users\\avinashkoduri\\miniconda3\\envs\\qai_hub\\lib\\site-packages (from qai-hub-models) (1.18.0)\n",
      "Requirement already satisfied: onnxruntime>=1.19 in c:\\users\\avinashkoduri\\miniconda3\\envs\\qai_hub\\lib\\site-packages (from qai-hub-models) (1.22.1)\n",
      "Requirement already satisfied: opencv-python<5,>4 in c:\\users\\avinashkoduri\\miniconda3\\envs\\qai_hub\\lib\\site-packages (from qai-hub-models) (4.11.0.86)\n",
      "Requirement already satisfied: pandas<2.3,>2 in c:\\users\\avinashkoduri\\miniconda3\\envs\\qai_hub\\lib\\site-packages (from qai-hub-models) (2.2.3)\n",
      "Requirement already satisfied: prettytable==3.11.0 in c:\\users\\avinashkoduri\\miniconda3\\envs\\qai_hub\\lib\\site-packages (from qai-hub-models) (3.11.0)\n",
      "Requirement already satisfied: requests-toolbelt==1.0.0 in c:\\users\\avinashkoduri\\miniconda3\\envs\\qai_hub\\lib\\site-packages (from qai-hub-models) (1.0.0)\n",
      "Requirement already satisfied: schema==0.7.5 in c:\\users\\avinashkoduri\\miniconda3\\envs\\qai_hub\\lib\\site-packages (from qai-hub-models) (0.7.5)\n",
      "Requirement already satisfied: torch<2.6.0,>=2.1 in c:\\users\\avinashkoduri\\miniconda3\\envs\\qai_hub\\lib\\site-packages (from qai-hub-models) (2.5.1)\n",
      "Requirement already satisfied: tabulate==0.9.0 in c:\\users\\avinashkoduri\\miniconda3\\envs\\qai_hub\\lib\\site-packages (from qai-hub-models) (0.9.0)\n",
      "Requirement already satisfied: torchvision<0.21,>=0.16 in c:\\users\\avinashkoduri\\miniconda3\\envs\\qai_hub\\lib\\site-packages (from qai-hub-models) (0.20.1)\n",
      "Requirement already satisfied: typing-extensions>=4.12.2 in c:\\users\\avinashkoduri\\miniconda3\\envs\\qai_hub\\lib\\site-packages (from qai-hub-models) (4.14.1)\n",
      "Requirement already satisfied: tqdm>=4.66 in c:\\users\\avinashkoduri\\miniconda3\\envs\\qai_hub\\lib\\site-packages (from qai-hub-models) (4.67.1)\n",
      "Requirement already satisfied: pyarrow==19.0.1 in c:\\users\\avinashkoduri\\miniconda3\\envs\\qai_hub\\lib\\site-packages (from qai-hub-models) (19.0.1)\n",
      "Requirement already satisfied: qai-hub>=0.34.0 in c:\\users\\avinashkoduri\\miniconda3\\envs\\qai_hub\\lib\\site-packages (from qai-hub-models) (0.34.0)\n",
      "Requirement already satisfied: datasets==2.17.0 in c:\\users\\avinashkoduri\\miniconda3\\envs\\qai_hub\\lib\\site-packages (from qai-hub-models) (2.17.0)\n",
      "Requirement already satisfied: ruamel-yaml==0.18.10 in c:\\users\\avinashkoduri\\miniconda3\\envs\\qai_hub\\lib\\site-packages (from qai-hub-models) (0.18.10)\n",
      "Requirement already satisfied: filelock>=3.16.1 in c:\\users\\avinashkoduri\\miniconda3\\envs\\qai_hub\\lib\\site-packages (from qai-hub-models) (3.19.1)\n",
      "Requirement already satisfied: pydantic<3,>=2 in c:\\users\\avinashkoduri\\miniconda3\\envs\\qai_hub\\lib\\site-packages (from qai-hub-models) (2.11.7)\n",
      "Requirement already satisfied: pydantic-yaml==1.4.0 in c:\\users\\avinashkoduri\\miniconda3\\envs\\qai_hub\\lib\\site-packages (from qai-hub-models) (1.4.0)\n",
      "Requirement already satisfied: scipy<2,>=1.8.1 in c:\\users\\avinashkoduri\\miniconda3\\envs\\qai_hub\\lib\\site-packages (from qai-hub-models) (1.15.3)\n",
      "Requirement already satisfied: pyquaternion==0.9.9 in c:\\users\\avinashkoduri\\miniconda3\\envs\\qai_hub\\lib\\site-packages (from qai-hub-models) (0.9.9)\n",
      "Requirement already satisfied: numba==0.60.0 in c:\\users\\avinashkoduri\\miniconda3\\envs\\qai_hub\\lib\\site-packages (from qai-hub-models) (0.60.0)\n",
      "Requirement already satisfied: pyarrow-hotfix in c:\\users\\avinashkoduri\\miniconda3\\envs\\qai_hub\\lib\\site-packages (from datasets==2.17.0->qai-hub-models) (0.7)\n",
      "Requirement already satisfied: dill<0.3.9,>=0.3.0 in c:\\users\\avinashkoduri\\miniconda3\\envs\\qai_hub\\lib\\site-packages (from datasets==2.17.0->qai-hub-models) (0.3.8)\n",
      "Requirement already satisfied: requests>=2.19.0 in c:\\users\\avinashkoduri\\miniconda3\\envs\\qai_hub\\lib\\site-packages (from datasets==2.17.0->qai-hub-models) (2.32.5)\n",
      "Requirement already satisfied: xxhash in c:\\users\\avinashkoduri\\miniconda3\\envs\\qai_hub\\lib\\site-packages (from datasets==2.17.0->qai-hub-models) (3.5.0)\n",
      "Requirement already satisfied: multiprocess in c:\\users\\avinashkoduri\\miniconda3\\envs\\qai_hub\\lib\\site-packages (from datasets==2.17.0->qai-hub-models) (0.70.16)\n",
      "Requirement already satisfied: fsspec<=2023.10.0,>=2023.1.0 in c:\\users\\avinashkoduri\\miniconda3\\envs\\qai_hub\\lib\\site-packages (from fsspec[http]<=2023.10.0,>=2023.1.0->datasets==2.17.0->qai-hub-models) (2023.10.0)\n",
      "Requirement already satisfied: aiohttp in c:\\users\\avinashkoduri\\miniconda3\\envs\\qai_hub\\lib\\site-packages (from datasets==2.17.0->qai-hub-models) (3.12.15)\n",
      "Requirement already satisfied: packaging in c:\\users\\avinashkoduri\\miniconda3\\envs\\qai_hub\\lib\\site-packages (from datasets==2.17.0->qai-hub-models) (25.0)\n",
      "Requirement already satisfied: pyyaml>=5.1 in c:\\users\\avinashkoduri\\miniconda3\\envs\\qai_hub\\lib\\site-packages (from datasets==2.17.0->qai-hub-models) (6.0.2)\n",
      "Requirement already satisfied: six in c:\\users\\avinashkoduri\\miniconda3\\envs\\qai_hub\\lib\\site-packages (from gdown==4.7.1->qai-hub-models) (1.17.0)\n",
      "Requirement already satisfied: beautifulsoup4 in c:\\users\\avinashkoduri\\miniconda3\\envs\\qai_hub\\lib\\site-packages (from gdown==4.7.1->qai-hub-models) (4.13.5)\n",
      "Requirement already satisfied: gitdb<5,>=4.0.1 in c:\\users\\avinashkoduri\\miniconda3\\envs\\qai_hub\\lib\\site-packages (from gitpython==3.1.42->qai-hub-models) (4.0.12)\n",
      "Requirement already satisfied: backcall in c:\\users\\avinashkoduri\\miniconda3\\envs\\qai_hub\\lib\\site-packages (from ipython==8.12.3->qai-hub-models) (0.2.0)\n",
      "Requirement already satisfied: decorator in c:\\users\\avinashkoduri\\miniconda3\\envs\\qai_hub\\lib\\site-packages (from ipython==8.12.3->qai-hub-models) (5.2.1)\n",
      "Requirement already satisfied: jedi>=0.16 in c:\\users\\avinashkoduri\\miniconda3\\envs\\qai_hub\\lib\\site-packages (from ipython==8.12.3->qai-hub-models) (0.19.2)\n",
      "Requirement already satisfied: matplotlib-inline in c:\\users\\avinashkoduri\\miniconda3\\envs\\qai_hub\\lib\\site-packages (from ipython==8.12.3->qai-hub-models) (0.1.7)\n",
      "Requirement already satisfied: pickleshare in c:\\users\\avinashkoduri\\miniconda3\\envs\\qai_hub\\lib\\site-packages (from ipython==8.12.3->qai-hub-models) (0.7.5)\n",
      "Requirement already satisfied: prompt-toolkit!=3.0.37,<3.1.0,>=3.0.30 in c:\\users\\avinashkoduri\\miniconda3\\envs\\qai_hub\\lib\\site-packages (from ipython==8.12.3->qai-hub-models) (3.0.51)\n",
      "Requirement already satisfied: pygments>=2.4.0 in c:\\users\\avinashkoduri\\miniconda3\\envs\\qai_hub\\lib\\site-packages (from ipython==8.12.3->qai-hub-models) (2.19.2)\n",
      "Requirement already satisfied: stack-data in c:\\users\\avinashkoduri\\miniconda3\\envs\\qai_hub\\lib\\site-packages (from ipython==8.12.3->qai-hub-models) (0.6.3)\n",
      "Requirement already satisfied: traitlets>=5 in c:\\users\\avinashkoduri\\miniconda3\\envs\\qai_hub\\lib\\site-packages (from ipython==8.12.3->qai-hub-models) (5.14.3)\n",
      "Requirement already satisfied: colorama in c:\\users\\avinashkoduri\\miniconda3\\envs\\qai_hub\\lib\\site-packages (from ipython==8.12.3->qai-hub-models) (0.4.6)\n",
      "Requirement already satisfied: llvmlite<0.44,>=0.43.0dev0 in c:\\users\\avinashkoduri\\miniconda3\\envs\\qai_hub\\lib\\site-packages (from numba==0.60.0->qai-hub-models) (0.43.0)\n",
      "Requirement already satisfied: wcwidth in c:\\users\\avinashkoduri\\miniconda3\\envs\\qai_hub\\lib\\site-packages (from prettytable==3.11.0->qai-hub-models) (0.2.13)\n",
      "Requirement already satisfied: ruamel.yaml.clib>=0.2.7 in c:\\users\\avinashkoduri\\miniconda3\\envs\\qai_hub\\lib\\site-packages (from ruamel-yaml==0.18.10->qai-hub-models) (0.2.12)\n",
      "Requirement already satisfied: contextlib2>=0.5.5 in c:\\users\\avinashkoduri\\miniconda3\\envs\\qai_hub\\lib\\site-packages (from schema==0.7.5->qai-hub-models) (21.6.0)\n",
      "Requirement already satisfied: smmap<6,>=3.0.1 in c:\\users\\avinashkoduri\\miniconda3\\envs\\qai_hub\\lib\\site-packages (from gitdb<5,>=4.0.1->gitpython==3.1.42->qai-hub-models) (5.0.2)\n",
      "Requirement already satisfied: python-dateutil>=2.8.2 in c:\\users\\avinashkoduri\\miniconda3\\envs\\qai_hub\\lib\\site-packages (from pandas<2.3,>2->qai-hub-models) (2.9.0.post0)\n",
      "Requirement already satisfied: pytz>=2020.1 in c:\\users\\avinashkoduri\\miniconda3\\envs\\qai_hub\\lib\\site-packages (from pandas<2.3,>2->qai-hub-models) (2025.2)\n",
      "Requirement already satisfied: tzdata>=2022.7 in c:\\users\\avinashkoduri\\miniconda3\\envs\\qai_hub\\lib\\site-packages (from pandas<2.3,>2->qai-hub-models) (2025.2)\n",
      "Requirement already satisfied: annotated-types>=0.6.0 in c:\\users\\avinashkoduri\\miniconda3\\envs\\qai_hub\\lib\\site-packages (from pydantic<3,>=2->qai-hub-models) (0.7.0)\n",
      "Requirement already satisfied: pydantic-core==2.33.2 in c:\\users\\avinashkoduri\\miniconda3\\envs\\qai_hub\\lib\\site-packages (from pydantic<3,>=2->qai-hub-models) (2.33.2)\n",
      "Requirement already satisfied: typing-inspection>=0.4.0 in c:\\users\\avinashkoduri\\miniconda3\\envs\\qai_hub\\lib\\site-packages (from pydantic<3,>=2->qai-hub-models) (0.4.1)\n",
      "Requirement already satisfied: charset_normalizer<4,>=2 in c:\\users\\avinashkoduri\\miniconda3\\envs\\qai_hub\\lib\\site-packages (from requests>=2.19.0->datasets==2.17.0->qai-hub-models) (3.4.3)\n",
      "Requirement already satisfied: idna<4,>=2.5 in c:\\users\\avinashkoduri\\miniconda3\\envs\\qai_hub\\lib\\site-packages (from requests>=2.19.0->datasets==2.17.0->qai-hub-models) (3.10)\n",
      "Requirement already satisfied: urllib3<3,>=1.21.1 in c:\\users\\avinashkoduri\\miniconda3\\envs\\qai_hub\\lib\\site-packages (from requests>=2.19.0->datasets==2.17.0->qai-hub-models) (2.5.0)\n",
      "Requirement already satisfied: certifi>=2017.4.17 in c:\\users\\avinashkoduri\\miniconda3\\envs\\qai_hub\\lib\\site-packages (from requests>=2.19.0->datasets==2.17.0->qai-hub-models) (2025.8.3)\n",
      "Requirement already satisfied: networkx in c:\\users\\avinashkoduri\\miniconda3\\envs\\qai_hub\\lib\\site-packages (from torch<2.6.0,>=2.1->qai-hub-models) (3.4.2)\n",
      "Requirement already satisfied: jinja2 in c:\\users\\avinashkoduri\\miniconda3\\envs\\qai_hub\\lib\\site-packages (from torch<2.6.0,>=2.1->qai-hub-models) (3.1.6)\n",
      "Requirement already satisfied: sympy==1.13.1 in c:\\users\\avinashkoduri\\miniconda3\\envs\\qai_hub\\lib\\site-packages (from torch<2.6.0,>=2.1->qai-hub-models) (1.13.1)\n",
      "Requirement already satisfied: mpmath<1.4,>=1.1.0 in c:\\users\\avinashkoduri\\miniconda3\\envs\\qai_hub\\lib\\site-packages (from sympy==1.13.1->torch<2.6.0,>=2.1->qai-hub-models) (1.3.0)\n",
      "Requirement already satisfied: aiohappyeyeballs>=2.5.0 in c:\\users\\avinashkoduri\\miniconda3\\envs\\qai_hub\\lib\\site-packages (from aiohttp->datasets==2.17.0->qai-hub-models) (2.6.1)\n",
      "Requirement already satisfied: aiosignal>=1.4.0 in c:\\users\\avinashkoduri\\miniconda3\\envs\\qai_hub\\lib\\site-packages (from aiohttp->datasets==2.17.0->qai-hub-models) (1.4.0)\n",
      "Requirement already satisfied: async-timeout<6.0,>=4.0 in c:\\users\\avinashkoduri\\miniconda3\\envs\\qai_hub\\lib\\site-packages (from aiohttp->datasets==2.17.0->qai-hub-models) (5.0.1)\n",
      "Requirement already satisfied: attrs>=17.3.0 in c:\\users\\avinashkoduri\\miniconda3\\envs\\qai_hub\\lib\\site-packages (from aiohttp->datasets==2.17.0->qai-hub-models) (25.3.0)\n",
      "Requirement already satisfied: frozenlist>=1.1.1 in c:\\users\\avinashkoduri\\miniconda3\\envs\\qai_hub\\lib\\site-packages (from aiohttp->datasets==2.17.0->qai-hub-models) (1.7.0)\n",
      "Requirement already satisfied: multidict<7.0,>=4.5 in c:\\users\\avinashkoduri\\miniconda3\\envs\\qai_hub\\lib\\site-packages (from aiohttp->datasets==2.17.0->qai-hub-models) (6.6.4)\n",
      "Requirement already satisfied: propcache>=0.2.0 in c:\\users\\avinashkoduri\\miniconda3\\envs\\qai_hub\\lib\\site-packages (from aiohttp->datasets==2.17.0->qai-hub-models) (0.3.2)\n",
      "Requirement already satisfied: yarl<2.0,>=1.17.0 in c:\\users\\avinashkoduri\\miniconda3\\envs\\qai_hub\\lib\\site-packages (from aiohttp->datasets==2.17.0->qai-hub-models) (1.20.1)\n",
      "Requirement already satisfied: parso<0.9.0,>=0.8.4 in c:\\users\\avinashkoduri\\miniconda3\\envs\\qai_hub\\lib\\site-packages (from jedi>=0.16->ipython==8.12.3->qai-hub-models) (0.8.5)\n",
      "Requirement already satisfied: protobuf>=4.25.1 in c:\\users\\avinashkoduri\\miniconda3\\envs\\qai_hub\\lib\\site-packages (from onnx>=1.16.1->qai-hub-models) (6.31.1)\n",
      "Requirement already satisfied: coloredlogs in c:\\users\\avinashkoduri\\miniconda3\\envs\\qai_hub\\lib\\site-packages (from onnxruntime>=1.19->qai-hub-models) (15.0.1)\n",
      "Requirement already satisfied: flatbuffers in c:\\users\\avinashkoduri\\miniconda3\\envs\\qai_hub\\lib\\site-packages (from onnxruntime>=1.19->qai-hub-models) (25.2.10)\n",
      "Requirement already satisfied: backoff>=2.2 in c:\\users\\avinashkoduri\\miniconda3\\envs\\qai_hub\\lib\\site-packages (from qai-hub>=0.34.0->qai-hub-models) (2.2.1)\n",
      "Requirement already satisfied: deprecation in c:\\users\\avinashkoduri\\miniconda3\\envs\\qai_hub\\lib\\site-packages (from qai-hub>=0.34.0->qai-hub-models) (2.1.0)\n",
      "Requirement already satisfied: h5py<4,>=2.10.0 in c:\\users\\avinashkoduri\\miniconda3\\envs\\qai_hub\\lib\\site-packages (from qai-hub>=0.34.0->qai-hub-models) (3.14.0)\n",
      "Requirement already satisfied: s3transfer<0.11,>=0.10.3 in c:\\users\\avinashkoduri\\miniconda3\\envs\\qai_hub\\lib\\site-packages (from qai-hub>=0.34.0->qai-hub-models) (0.10.4)\n",
      "Requirement already satisfied: semver>=3.0 in c:\\users\\avinashkoduri\\miniconda3\\envs\\qai_hub\\lib\\site-packages (from qai-hub>=0.34.0->qai-hub-models) (3.0.4)\n",
      "Requirement already satisfied: botocore<2.0a.0,>=1.33.2 in c:\\users\\avinashkoduri\\miniconda3\\envs\\qai_hub\\lib\\site-packages (from s3transfer<0.11,>=0.10.3->qai-hub>=0.34.0->qai-hub-models) (1.40.15)\n",
      "Requirement already satisfied: jmespath<2.0.0,>=0.7.1 in c:\\users\\avinashkoduri\\miniconda3\\envs\\qai_hub\\lib\\site-packages (from botocore<2.0a.0,>=1.33.2->s3transfer<0.11,>=0.10.3->qai-hub>=0.34.0->qai-hub-models) (1.0.1)\n",
      "Requirement already satisfied: soupsieve>1.2 in c:\\users\\avinashkoduri\\miniconda3\\envs\\qai_hub\\lib\\site-packages (from beautifulsoup4->gdown==4.7.1->qai-hub-models) (2.7)\n",
      "Requirement already satisfied: humanfriendly>=9.1 in c:\\users\\avinashkoduri\\miniconda3\\envs\\qai_hub\\lib\\site-packages (from coloredlogs->onnxruntime>=1.19->qai-hub-models) (10.0)\n",
      "Requirement already satisfied: pyreadline3 in c:\\users\\avinashkoduri\\miniconda3\\envs\\qai_hub\\lib\\site-packages (from humanfriendly>=9.1->coloredlogs->onnxruntime>=1.19->qai-hub-models) (3.5.4)\n",
      "Requirement already satisfied: MarkupSafe>=2.0 in c:\\users\\avinashkoduri\\miniconda3\\envs\\qai_hub\\lib\\site-packages (from jinja2->torch<2.6.0,>=2.1->qai-hub-models) (3.0.2)\n",
      "Requirement already satisfied: PySocks!=1.5.7,>=1.5.6 in c:\\users\\avinashkoduri\\miniconda3\\envs\\qai_hub\\lib\\site-packages (from requests[socks]->gdown==4.7.1->qai-hub-models) (1.7.1)\n",
      "Requirement already satisfied: executing>=1.2.0 in c:\\users\\avinashkoduri\\miniconda3\\envs\\qai_hub\\lib\\site-packages (from stack-data->ipython==8.12.3->qai-hub-models) (2.2.0)\n",
      "Requirement already satisfied: asttokens>=2.1.0 in c:\\users\\avinashkoduri\\miniconda3\\envs\\qai_hub\\lib\\site-packages (from stack-data->ipython==8.12.3->qai-hub-models) (3.0.0)\n",
      "Requirement already satisfied: pure_eval in c:\\users\\avinashkoduri\\miniconda3\\envs\\qai_hub\\lib\\site-packages (from stack-data->ipython==8.12.3->qai-hub-models) (0.2.3)\n",
      "Note: you may need to restart the kernel to use updated packages.\n"
     ]
    }
   ],
   "source": [
    "%pip install qai-hub-models"
   ]
  },
  {
   "cell_type": "code",
   "execution_count": 10,
   "id": "c2ad2e71",
   "metadata": {},
   "outputs": [],
   "source": [
    "import qai_hub as hub\n",
    "import torch\n",
    "import torchvision\n",
    "from typing import Tuple\n"
   ]
  },
  {
   "cell_type": "code",
   "execution_count": 6,
   "id": "25fcc67e",
   "metadata": {},
   "outputs": [
    {
     "name": "stdout",
     "output_type": "stream",
     "text": [
      "Requirement already satisfied: ultralytics in c:\\users\\avinashkoduri\\miniconda3\\envs\\qai_hub\\lib\\site-packages (8.3.190)\n",
      "Requirement already satisfied: numpy>=1.23.0 in c:\\users\\avinashkoduri\\miniconda3\\envs\\qai_hub\\lib\\site-packages (from ultralytics) (1.26.4)\n",
      "Requirement already satisfied: matplotlib>=3.3.0 in c:\\users\\avinashkoduri\\miniconda3\\envs\\qai_hub\\lib\\site-packages (from ultralytics) (3.10.6)\n",
      "Requirement already satisfied: opencv-python>=4.6.0 in c:\\users\\avinashkoduri\\miniconda3\\envs\\qai_hub\\lib\\site-packages (from ultralytics) (4.11.0.86)\n",
      "Requirement already satisfied: pillow>=7.1.2 in c:\\users\\avinashkoduri\\miniconda3\\envs\\qai_hub\\lib\\site-packages (from ultralytics) (11.3.0)\n",
      "Requirement already satisfied: pyyaml>=5.3.1 in c:\\users\\avinashkoduri\\miniconda3\\envs\\qai_hub\\lib\\site-packages (from ultralytics) (6.0.2)\n",
      "Requirement already satisfied: requests>=2.23.0 in c:\\users\\avinashkoduri\\miniconda3\\envs\\qai_hub\\lib\\site-packages (from ultralytics) (2.32.5)\n",
      "Requirement already satisfied: scipy>=1.4.1 in c:\\users\\avinashkoduri\\miniconda3\\envs\\qai_hub\\lib\\site-packages (from ultralytics) (1.15.3)\n",
      "Requirement already satisfied: torch>=1.8.0 in c:\\users\\avinashkoduri\\miniconda3\\envs\\qai_hub\\lib\\site-packages (from ultralytics) (2.5.1)\n",
      "Requirement already satisfied: torchvision>=0.9.0 in c:\\users\\avinashkoduri\\miniconda3\\envs\\qai_hub\\lib\\site-packages (from ultralytics) (0.20.1)\n",
      "Requirement already satisfied: psutil in c:\\users\\avinashkoduri\\miniconda3\\envs\\qai_hub\\lib\\site-packages (from ultralytics) (7.0.0)\n",
      "Requirement already satisfied: py-cpuinfo in c:\\users\\avinashkoduri\\miniconda3\\envs\\qai_hub\\lib\\site-packages (from ultralytics) (9.0.0)\n",
      "Requirement already satisfied: polars in c:\\users\\avinashkoduri\\miniconda3\\envs\\qai_hub\\lib\\site-packages (from ultralytics) (1.32.3)\n",
      "Requirement already satisfied: ultralytics-thop>=2.0.0 in c:\\users\\avinashkoduri\\miniconda3\\envs\\qai_hub\\lib\\site-packages (from ultralytics) (2.0.16)\n",
      "Requirement already satisfied: contourpy>=1.0.1 in c:\\users\\avinashkoduri\\miniconda3\\envs\\qai_hub\\lib\\site-packages (from matplotlib>=3.3.0->ultralytics) (1.3.2)\n",
      "Requirement already satisfied: cycler>=0.10 in c:\\users\\avinashkoduri\\miniconda3\\envs\\qai_hub\\lib\\site-packages (from matplotlib>=3.3.0->ultralytics) (0.12.1)\n",
      "Requirement already satisfied: fonttools>=4.22.0 in c:\\users\\avinashkoduri\\miniconda3\\envs\\qai_hub\\lib\\site-packages (from matplotlib>=3.3.0->ultralytics) (4.59.2)\n",
      "Requirement already satisfied: kiwisolver>=1.3.1 in c:\\users\\avinashkoduri\\miniconda3\\envs\\qai_hub\\lib\\site-packages (from matplotlib>=3.3.0->ultralytics) (1.4.9)\n",
      "Requirement already satisfied: packaging>=20.0 in c:\\users\\avinashkoduri\\miniconda3\\envs\\qai_hub\\lib\\site-packages (from matplotlib>=3.3.0->ultralytics) (25.0)\n",
      "Requirement already satisfied: pyparsing>=2.3.1 in c:\\users\\avinashkoduri\\miniconda3\\envs\\qai_hub\\lib\\site-packages (from matplotlib>=3.3.0->ultralytics) (3.2.3)\n",
      "Requirement already satisfied: python-dateutil>=2.7 in c:\\users\\avinashkoduri\\miniconda3\\envs\\qai_hub\\lib\\site-packages (from matplotlib>=3.3.0->ultralytics) (2.9.0.post0)\n",
      "Requirement already satisfied: six>=1.5 in c:\\users\\avinashkoduri\\miniconda3\\envs\\qai_hub\\lib\\site-packages (from python-dateutil>=2.7->matplotlib>=3.3.0->ultralytics) (1.17.0)\n",
      "Requirement already satisfied: charset_normalizer<4,>=2 in c:\\users\\avinashkoduri\\miniconda3\\envs\\qai_hub\\lib\\site-packages (from requests>=2.23.0->ultralytics) (3.4.3)\n",
      "Requirement already satisfied: idna<4,>=2.5 in c:\\users\\avinashkoduri\\miniconda3\\envs\\qai_hub\\lib\\site-packages (from requests>=2.23.0->ultralytics) (3.10)\n",
      "Requirement already satisfied: urllib3<3,>=1.21.1 in c:\\users\\avinashkoduri\\miniconda3\\envs\\qai_hub\\lib\\site-packages (from requests>=2.23.0->ultralytics) (2.5.0)\n",
      "Requirement already satisfied: certifi>=2017.4.17 in c:\\users\\avinashkoduri\\miniconda3\\envs\\qai_hub\\lib\\site-packages (from requests>=2.23.0->ultralytics) (2025.8.3)\n",
      "Requirement already satisfied: filelock in c:\\users\\avinashkoduri\\miniconda3\\envs\\qai_hub\\lib\\site-packages (from torch>=1.8.0->ultralytics) (3.19.1)\n",
      "Requirement already satisfied: typing-extensions>=4.8.0 in c:\\users\\avinashkoduri\\miniconda3\\envs\\qai_hub\\lib\\site-packages (from torch>=1.8.0->ultralytics) (4.14.1)\n",
      "Requirement already satisfied: networkx in c:\\users\\avinashkoduri\\miniconda3\\envs\\qai_hub\\lib\\site-packages (from torch>=1.8.0->ultralytics) (3.4.2)\n",
      "Requirement already satisfied: jinja2 in c:\\users\\avinashkoduri\\miniconda3\\envs\\qai_hub\\lib\\site-packages (from torch>=1.8.0->ultralytics) (3.1.6)\n",
      "Requirement already satisfied: fsspec in c:\\users\\avinashkoduri\\miniconda3\\envs\\qai_hub\\lib\\site-packages (from torch>=1.8.0->ultralytics) (2023.10.0)\n",
      "Requirement already satisfied: sympy==1.13.1 in c:\\users\\avinashkoduri\\miniconda3\\envs\\qai_hub\\lib\\site-packages (from torch>=1.8.0->ultralytics) (1.13.1)\n",
      "Requirement already satisfied: mpmath<1.4,>=1.1.0 in c:\\users\\avinashkoduri\\miniconda3\\envs\\qai_hub\\lib\\site-packages (from sympy==1.13.1->torch>=1.8.0->ultralytics) (1.3.0)\n",
      "Requirement already satisfied: MarkupSafe>=2.0 in c:\\users\\avinashkoduri\\miniconda3\\envs\\qai_hub\\lib\\site-packages (from jinja2->torch>=1.8.0->ultralytics) (3.0.2)\n",
      "Note: you may need to restart the kernel to use updated packages.\n"
     ]
    }
   ],
   "source": [
    "%pip install ultralytics"
   ]
  },
  {
   "cell_type": "code",
   "execution_count": 12,
   "id": "11f6df96",
   "metadata": {},
   "outputs": [
    {
     "name": "stdout",
     "output_type": "stream",
     "text": [
      "Collecting seaborn\n",
      "  Downloading seaborn-0.13.2-py3-none-any.whl.metadata (5.4 kB)\n",
      "Requirement already satisfied: numpy!=1.24.0,>=1.20 in c:\\users\\avinashkoduri\\miniconda3\\envs\\qai_hub\\lib\\site-packages (from seaborn) (1.26.4)\n",
      "Requirement already satisfied: pandas>=1.2 in c:\\users\\avinashkoduri\\miniconda3\\envs\\qai_hub\\lib\\site-packages (from seaborn) (2.2.3)\n",
      "Requirement already satisfied: matplotlib!=3.6.1,>=3.4 in c:\\users\\avinashkoduri\\miniconda3\\envs\\qai_hub\\lib\\site-packages (from seaborn) (3.10.6)\n",
      "Requirement already satisfied: contourpy>=1.0.1 in c:\\users\\avinashkoduri\\miniconda3\\envs\\qai_hub\\lib\\site-packages (from matplotlib!=3.6.1,>=3.4->seaborn) (1.3.2)\n",
      "Requirement already satisfied: cycler>=0.10 in c:\\users\\avinashkoduri\\miniconda3\\envs\\qai_hub\\lib\\site-packages (from matplotlib!=3.6.1,>=3.4->seaborn) (0.12.1)\n",
      "Requirement already satisfied: fonttools>=4.22.0 in c:\\users\\avinashkoduri\\miniconda3\\envs\\qai_hub\\lib\\site-packages (from matplotlib!=3.6.1,>=3.4->seaborn) (4.59.2)\n",
      "Requirement already satisfied: kiwisolver>=1.3.1 in c:\\users\\avinashkoduri\\miniconda3\\envs\\qai_hub\\lib\\site-packages (from matplotlib!=3.6.1,>=3.4->seaborn) (1.4.9)\n",
      "Requirement already satisfied: packaging>=20.0 in c:\\users\\avinashkoduri\\miniconda3\\envs\\qai_hub\\lib\\site-packages (from matplotlib!=3.6.1,>=3.4->seaborn) (25.0)\n",
      "Requirement already satisfied: pillow>=8 in c:\\users\\avinashkoduri\\miniconda3\\envs\\qai_hub\\lib\\site-packages (from matplotlib!=3.6.1,>=3.4->seaborn) (11.3.0)\n",
      "Requirement already satisfied: pyparsing>=2.3.1 in c:\\users\\avinashkoduri\\miniconda3\\envs\\qai_hub\\lib\\site-packages (from matplotlib!=3.6.1,>=3.4->seaborn) (3.2.3)\n",
      "Requirement already satisfied: python-dateutil>=2.7 in c:\\users\\avinashkoduri\\miniconda3\\envs\\qai_hub\\lib\\site-packages (from matplotlib!=3.6.1,>=3.4->seaborn) (2.9.0.post0)\n",
      "Requirement already satisfied: pytz>=2020.1 in c:\\users\\avinashkoduri\\miniconda3\\envs\\qai_hub\\lib\\site-packages (from pandas>=1.2->seaborn) (2025.2)\n",
      "Requirement already satisfied: tzdata>=2022.7 in c:\\users\\avinashkoduri\\miniconda3\\envs\\qai_hub\\lib\\site-packages (from pandas>=1.2->seaborn) (2025.2)\n",
      "Requirement already satisfied: six>=1.5 in c:\\users\\avinashkoduri\\miniconda3\\envs\\qai_hub\\lib\\site-packages (from python-dateutil>=2.7->matplotlib!=3.6.1,>=3.4->seaborn) (1.17.0)\n",
      "Downloading seaborn-0.13.2-py3-none-any.whl (294 kB)\n",
      "Installing collected packages: seaborn\n",
      "Successfully installed seaborn-0.13.2\n",
      "Note: you may need to restart the kernel to use updated packages.\n"
     ]
    }
   ],
   "source": [
    "%pip install seaborn"
   ]
  },
  {
   "cell_type": "code",
   "execution_count": 13,
   "id": "fbd90c8d",
   "metadata": {},
   "outputs": [
    {
     "name": "stdout",
     "output_type": "stream",
     "text": [
      "Downloading https://github.com/WongKinYiu/yolov7/releases/download/v0.1/yolov7-tiny.pt to yolov7-tiny.pt...\n"
     ]
    },
    {
     "name": "stderr",
     "output_type": "stream",
     "text": [
      "100%|██████████| 12.1M/12.1M [00:03<00:00, 3.81MB/s]\n",
      "C:\\Users\\Avinashkoduri\\.qaihm\\models\\yolov7\\v1\\WongKinYiu_yolov7_git\\models\\experimental.py:252: FutureWarning: You are using `torch.load` with `weights_only=False` (the current default value), which uses the default pickle module implicitly. It is possible to construct malicious pickle data which will execute arbitrary code during unpickling (See https://github.com/pytorch/pytorch/blob/main/SECURITY.md#untrusted-models for more details). In a future release, the default value for `weights_only` will be flipped to `True`. This limits the functions that could be executed during unpickling. Arbitrary objects will no longer be allowed to be loaded via this mode unless they are explicitly allowlisted by the user via `torch.serialization.add_safe_globals`. We recommend you start setting `weights_only=True` for any use case where you don't have full control of the loaded file. Please open an issue on GitHub for any issues related to this experimental feature.\n",
      "  ckpt = torch.load(w, map_location=map_location)  # load\n"
     ]
    },
    {
     "name": "stdout",
     "output_type": "stream",
     "text": [
      "\n",
      "Fusing layers... \n"
     ]
    },
    {
     "name": "stderr",
     "output_type": "stream",
     "text": [
      "c:\\Users\\Avinashkoduri\\miniconda3\\envs\\qai_hub\\lib\\site-packages\\torch\\functional.py:534: UserWarning: torch.meshgrid: in an upcoming release, it will be required to pass the indexing argument. (Triggered internally at C:\\actions-runner\\_work\\pytorch\\pytorch\\builder\\windows\\pytorch\\aten\\src\\ATen\\native\\TensorShape.cpp:3596.)\n",
      "  return _VF.meshgrid(tensors, **kwargs)  # type: ignore[attr-defined]\n",
      "c:\\Users\\Avinashkoduri\\miniconda3\\envs\\qai_hub\\lib\\site-packages\\qai_hub_models\\models\\yolov7\\model.py:222: TracerWarning: Converting a tensor to a Python integer might cause the trace to be incorrect. We can't record the data flow of Python values, so this value will be treated as a constant in the future. This means that the trace might not generalize to other inputs!\n",
      "  stride = int(self.stride[i])\n"
     ]
    }
   ],
   "source": [
    "from qai_hub_models.models.yolov7 import Model\n",
    "yolo_model = Model.from_pretrained()\n",
    "\n",
    "\n",
    "# Trace model\n",
    "input_shape = (1, 3, 640, 640)\n",
    "example_input = torch.rand(input_shape)\n",
    "pt_model = torch.jit.trace(yolo_model, example_input)"
   ]
  },
  {
   "cell_type": "code",
   "execution_count": 14,
   "id": "9e7ea07b",
   "metadata": {},
   "outputs": [
    {
     "name": "stdout",
     "output_type": "stream",
     "text": [
      "Uploading tmpdcuwqkvq.pt\n"
     ]
    },
    {
     "name": "stderr",
     "output_type": "stream",
     "text": [
      "100%|\u001b[34m██████████\u001b[0m| 25.0M/25.0M [00:24<00:00, 1.08MB/s]\n"
     ]
    },
    {
     "name": "stdout",
     "output_type": "stream",
     "text": [
      "Scheduled compile job (j56z80n7g) successfully. To see the status and results:\n",
      "    https://app.aihub.qualcomm.com/jobs/j56z80n7g/\n",
      "\n",
      "Waiting for compile job (j56z80n7g) completion. Type Ctrl+C to stop waiting at any time.\n",
      "    ✅ SUCCESS                          \u0007\n",
      "Scheduled profile job (jgonl93dp) successfully. To see the status and results:\n",
      "    https://app.aihub.qualcomm.com/jobs/jgonl93dp/\n",
      "\n"
     ]
    }
   ],
   "source": [
    "#Specity device\n",
    "device_selected=hub.Device(\"QCS6490 (Proxy)\")\n",
    "#Compile the model for the target device\n",
    "compile_job = hub.submit_compile_job(\n",
    "pt_model,\n",
    "name=\"yolov7-rb3gen2\",\n",
    "device=device_selected,\n",
    "input_specs=dict(x=input_shape),\n",
    ") # Added closing parenthesis here\n",
    "\n",
    "#Profile the model on the target device\n",
    "profile_job = hub.submit_profile_job(\n",
    "model=compile_job.get_target_model(),\n",
    "name=\"yolov7-rb3gen2\",\n",
    "device=device_selected,\n",
    ") # Added closing parenthesis here"
   ]
  }
 ],
 "metadata": {
  "kernelspec": {
   "display_name": "qai_hub",
   "language": "python",
   "name": "python3"
  },
  "language_info": {
   "codemirror_mode": {
    "name": "ipython",
    "version": 3
   },
   "file_extension": ".py",
   "mimetype": "text/x-python",
   "name": "python",
   "nbconvert_exporter": "python",
   "pygments_lexer": "ipython3",
   "version": "3.10.18"
  }
 },
 "nbformat": 4,
 "nbformat_minor": 5
}
